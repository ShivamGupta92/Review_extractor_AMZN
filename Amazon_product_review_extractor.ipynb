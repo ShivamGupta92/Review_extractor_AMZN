{
 "cells": [
  {
   "cell_type": "code",
   "execution_count": 52,
   "metadata": {},
   "outputs": [],
   "source": [
    "import requests\n",
    "from bs4 import BeautifulSoup\n",
    "import pandas as pd"
   ]
  },
  {
   "cell_type": "code",
   "execution_count": 65,
   "metadata": {},
   "outputs": [],
   "source": [
    "product_ID = ''"
   ]
  },
  {
   "cell_type": "code",
   "execution_count": 67,
   "metadata": {},
   "outputs": [],
   "source": [
    "base_url = f'https://www.amazon.in/product-reviews/{product_ID}'\n",
    "# print(base_url)"
   ]
  },
  {
   "cell_type": "markdown",
   "metadata": {},
   "source": [
    "#### to get your browser user agent visit this link\n",
    "https://www.whatismybrowser.com/detect/what-is-my-user-agent/"
   ]
  },
  {
   "cell_type": "code",
   "execution_count": 54,
   "metadata": {},
   "outputs": [],
   "source": [
    "header = {\n",
    "        'User-Agent': '',\n",
    "        'Accept-Language': 'en-US, en;q=0.5'\n",
    "    }"
   ]
  },
  {
   "cell_type": "code",
   "execution_count": 55,
   "metadata": {},
   "outputs": [],
   "source": [
    "def review_check_collect(url, header, page_number):\n",
    "    url = f'{base_url}/ref=cm_cr_getr_d_paging_btm_next_{page_number}?pageNumber={page_number}'\n",
    "    print(url)\n",
    "    response = requests.get(url, headers=header)\n",
    "    if response.status_code != 200:\n",
    "        print(f'Failed to fetch page {page_number}')\n",
    "    else:\n",
    "        soup = BeautifulSoup(response.text, 'html.parser')\n",
    "        # Extract review containers from the page\n",
    "        customer_reviews = soup.find_all('div', {'data-hook': 'review'})\n",
    "        \n",
    "        return customer_reviews"
   ]
  },
  {
   "cell_type": "code",
   "execution_count": 56,
   "metadata": {},
   "outputs": [],
   "source": [
    "profile_names = []\n",
    "ratings = []\n",
    "review_texts = []"
   ]
  },
  {
   "cell_type": "code",
   "execution_count": 57,
   "metadata": {},
   "outputs": [],
   "source": [
    "def review_extracter(customer_reviews, profile_names, ratings, review_texts):\n",
    "    for review_container in customer_reviews:\n",
    "        # Extract profile name\n",
    "        profile_name = review_container.find('span', {'class': 'a-profile-name'}).get_text(strip=True)\n",
    "        profile_names.append(profile_name)\n",
    "        \n",
    "        # Extract rating\n",
    "        rating = review_container.find('span', {'class': 'a-icon-alt'}).get_text(strip=True)\n",
    "        ratings.append(rating)\n",
    "        \n",
    "        # Extract review text\n",
    "        review_text = review_container.find('span', {'class': 'review-text'}).get_text(strip=True)\n",
    "        review_texts.append(review_text)\n",
    "\n",
    "        \n",
    "    # Create DataFrame\n",
    "    data = {'Profile Name': profile_names, 'Rating': ratings, 'Review': review_texts}\n",
    "    df = pd.DataFrame(data)\n",
    "\n",
    "    csv_file_path = 'reviews.csv'\n",
    "    df.to_csv(csv_file_path, index=False, encoding='utf-8')\n",
    "\n",
    "    print(\"All reviews scraped and saved successfully.\")\n",
    "    # return profile_names, ratings, review_texts  "
   ]
  },
  {
   "cell_type": "code",
   "execution_count": 59,
   "metadata": {},
   "outputs": [
    {
     "name": "stdout",
     "output_type": "stream",
     "text": [
      "1\n",
      "https://www.amazon.in/product-reviews/B002DYIZEE/ref=cm_cr_getr_d_paging_btm_next_1?pageNumber=1\n",
      "All reviews scraped and saved successfully.\n",
      "2\n",
      "https://www.amazon.in/product-reviews/B002DYIZEE/ref=cm_cr_getr_d_paging_btm_next_2?pageNumber=2\n",
      "Failed to fetch page 2\n"
     ]
    }
   ],
   "source": [
    "page_number = 1\n",
    "while True:\n",
    "    print(page_number)\n",
    "    user_review_container = review_check_collect(base_url, header, page_number)\n",
    "    if not user_review_container:\n",
    "        # If no reviews found on the page, break the loop\n",
    "        break\n",
    "\n",
    "    else:\n",
    "        review_extracter(user_review_container, profile_names, ratings, review_texts)\n",
    "    \n",
    "    # Move to the next page\n",
    "    page_number += 1\n"
   ]
  }
 ],
 "metadata": {
  "kernelspec": {
   "display_name": "Python 3",
   "language": "python",
   "name": "python3"
  },
  "language_info": {
   "codemirror_mode": {
    "name": "ipython",
    "version": 3
   },
   "file_extension": ".py",
   "mimetype": "text/x-python",
   "name": "python",
   "nbconvert_exporter": "python",
   "pygments_lexer": "ipython3",
   "version": "3.11.2"
  }
 },
 "nbformat": 4,
 "nbformat_minor": 2
}
